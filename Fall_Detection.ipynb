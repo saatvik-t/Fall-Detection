{
 "cells": [
  {
   "cell_type": "code",
   "execution_count": 1,
   "metadata": {},
   "outputs": [],
   "source": [
    "import numpy as np\n",
    "import pandas as pd\n",
    "import matplotlib.pyplot as plt\n",
    "import seaborn as sns\n",
    "\n",
    "from scipy.stats import zscore\n",
    "from sklearn.preprocessing import MinMaxScaler\n",
    "from sklearn.model_selection import train_test_split\n",
    "\n",
    "import tensorflow as tf\n",
    "from tensorflow import keras\n",
    "from tensorflow.keras import *\n",
    "from tensorflow.keras.models import Model\n",
    "from tensorflow.keras.utils import to_categorical\n",
    "from tensorflow.keras.layers import Input, Dense, Conv1D, GlobalAveragePooling1D, Multiply, Add, BatchNormalization, Dropout\n",
    "from tensorflow.keras.regularizers import l2"
   ]
  },
  {
   "cell_type": "code",
   "execution_count": 12,
   "metadata": {},
   "outputs": [
    {
     "data": {
      "text/plain": [
       "8"
      ]
     },
     "execution_count": 12,
     "metadata": {},
     "output_type": "execute_result"
    }
   ],
   "source": [
    "class_labels = pd.Series([\"Walking\", \"Jogging\", \"walking_stairs_updown\", \"stumble_while_walking\", \"Fall_Recovery\", \"Fall_Initiation\", \"Impact\", \"Aftermath\"])\n",
    "n_classes = len(class_labels)\n",
    "n_classes"
   ]
  },
  {
   "cell_type": "code",
   "execution_count": 13,
   "metadata": {},
   "outputs": [],
   "source": [
    "final_data = np.load(\"..\\\\full_and_half_Final_data.npy\")\n",
    "label = np.load(\"..\\\\full_and_half_label.npy\")"
   ]
  },
  {
   "cell_type": "code",
   "execution_count": 14,
   "metadata": {},
   "outputs": [
    {
     "data": {
      "text/plain": [
       "(11674, 200, 6)"
      ]
     },
     "execution_count": 14,
     "metadata": {},
     "output_type": "execute_result"
    }
   ],
   "source": [
    "final_data.shape"
   ]
  },
  {
   "cell_type": "code",
   "execution_count": 15,
   "metadata": {},
   "outputs": [
    {
     "data": {
      "text/plain": [
       "array([[[ 3.70108067e-01,  1.84242152e+00, -2.09895659e+00,\n",
       "          2.44204856e-01, -1.14811268e+00, -1.31094327e+00],\n",
       "        [ 3.10724502e-01,  1.96257422e+00, -1.87010434e+00,\n",
       "          7.64817407e-02, -1.28869163e+00, -1.17169055e+00],\n",
       "        [-1.04960451e-01,  1.91451314e+00, -1.64125208e+00,\n",
       "         -7.20730188e-02, -1.38753620e+00, -1.06573740e+00],\n",
       "        ...,\n",
       "        [-6.09720751e-01,  6.41615423e-02,  1.51182342e+00,\n",
       "         -3.37363067e-02, -1.84222124e+00,  4.14579566e-01],\n",
       "        [-7.28487880e-01,  4.01310021e-02,  1.56267948e+00,\n",
       "          1.77115610e-01, -1.91910036e+00,  5.08423791e-01],\n",
       "        [-8.17563227e-01, -1.04052239e-01,  1.86781582e+00,\n",
       "          4.21512150e-01, -1.98938983e+00,  6.08322481e-01]],\n",
       "\n",
       "       [[-7.14277170e-01,  2.00488654e-01,  1.69094994e+00,\n",
       "          1.68401107e-01, -1.84585613e+00,  5.43452106e-01],\n",
       "        [-7.71764267e-01,  2.00488654e-01,  1.75142020e+00,\n",
       "          3.39260497e-01, -1.88641103e+00,  5.58390904e-01],\n",
       "        [-7.52601901e-01,  2.61675425e-01,  1.81189045e+00,\n",
       "          5.03146034e-01, -1.89992933e+00,  5.77597929e-01],\n",
       "        ...,\n",
       "        [-5.99302978e-01,  1.13868581e+00, -4.25307471e-02,\n",
       "          6.70518497e-01, -4.59264896e-01, -1.06353567e+00],\n",
       "        [-4.65166420e-01,  1.15908140e+00, -2.23739949e-02,\n",
       "          6.11240750e-01, -5.15269277e-01, -1.06780389e+00],\n",
       "        [-3.11867497e-01,  1.19987258e+00,  1.79395094e-02,\n",
       "          5.51963002e-01, -5.71273659e-01, -1.06566978e+00]],\n",
       "\n",
       "       [[-7.09338497e-01,  1.20556971e+00, -4.32731280e-01,\n",
       "          1.19182842e+00, -5.02968809e-01, -1.05195809e+00],\n",
       "        [-6.16432341e-01,  1.29306457e+00, -4.57472920e-01,\n",
       "          1.04250365e+00, -5.57524027e-01, -1.04143285e+00],\n",
       "        [-4.92557467e-01,  1.35868571e+00, -4.32731280e-01,\n",
       "          8.64277317e-01, -6.10058682e-01, -1.03090761e+00],\n",
       "        ...,\n",
       "        [ 2.19723058e-01, -2.86294097e+00, -7.54372598e-01,\n",
       "         -1.78985004e+00, -6.08038119e-01,  1.73459873e+00],\n",
       "        [-5.89954087e-02, -2.46921413e+00, -2.59539802e-01,\n",
       "         -1.26480488e+00, -6.30264319e-01,  1.88984599e+00],\n",
       "        [ 6.48794652e-02, -2.05361358e+00,  4.33226113e-01,\n",
       "         -7.25308942e-01, -7.00984047e-01,  2.01614885e+00]],\n",
       "\n",
       "       ...,\n",
       "\n",
       "       [[-1.10298783e+00,  7.26417285e-01,  1.16676820e+00,\n",
       "          1.34007778e+00,  8.45045805e-01, -1.26650189e+00],\n",
       "        [-1.10289603e+00,  7.43894267e-01,  1.20498145e+00,\n",
       "          1.40124859e+00,  8.40396204e-01, -1.28546945e+00],\n",
       "        [-1.09669433e+00,  7.61549243e-01,  1.24639022e+00,\n",
       "          1.44681914e+00,  8.36788045e-01, -1.30638551e+00],\n",
       "        ...,\n",
       "        [ 8.75173626e-01,  1.41015081e+00, -3.03611227e-03,\n",
       "          9.21985271e-01, -1.59325995e+00, -3.30661458e-01],\n",
       "        [ 8.92937436e-01,  1.55152626e+00,  1.37820161e-01,\n",
       "          9.60576818e-01, -1.60246947e+00, -4.20551995e-01],\n",
       "        [ 9.11631709e-01,  1.72286284e+00,  2.99178950e-01,\n",
       "          1.00189103e+00, -1.60666921e+00, -5.12187470e-01]],\n",
       "\n",
       "       [[ 1.63906084e+00,  2.25888181e-01, -4.71939921e-01,\n",
       "          1.42184409e+00, -1.32091379e+00, -2.50783335e+00],\n",
       "        [ 2.09878746e+00,  3.09955400e+00, -5.46258686e-01,\n",
       "          1.89079566e+00, -1.91593608e+00, -2.81120042e+00],\n",
       "        [ 2.16038385e+00,  5.13758102e+00, -4.71939921e-01,\n",
       "          2.72259279e+00, -2.37135284e+00, -3.11261264e+00],\n",
       "        ...,\n",
       "        [-5.80665048e-01, -4.52299471e-01, -1.55171931e-01,\n",
       "         -4.13336156e-01, -3.68576460e-01,  5.41409556e-01],\n",
       "        [-6.33120613e-01, -4.50280988e-01, -1.42793313e-01,\n",
       "         -4.05315770e-01, -3.68190010e-01,  5.34297650e-01],\n",
       "        [-6.67049618e-01, -3.82436626e-01, -1.17536924e-01,\n",
       "         -3.95454377e-01, -3.80682260e-01,  5.33802370e-01]],\n",
       "\n",
       "       [[-2.05526212e-01, -1.22297309e+00, -7.73962764e-01,\n",
       "          6.93602926e-01, -1.01956835e+00,  8.67564075e-01],\n",
       "        [ 3.02958959e-01,  4.06937056e-01,  8.92411602e-01,\n",
       "          1.28291242e+00, -1.23158159e+00,  1.23636413e+00],\n",
       "        [ 1.16895661e+00,  4.19264716e-01,  2.22108914e+00,\n",
       "          1.77517416e+00, -1.46956264e+00,  1.42987239e+00],\n",
       "        ...,\n",
       "        [-1.44875310e-02,  1.17910560e-01,  8.88279239e-02,\n",
       "          2.97153814e-04, -2.49470423e-01,  2.35834427e-02],\n",
       "        [-9.17152276e-03,  1.45558415e-01, -1.32165926e-01,\n",
       "          1.39733466e-03, -2.25460794e-01,  2.41016036e-02],\n",
       "        [ 1.19983672e-01,  2.83612607e-01, -1.82683564e-01,\n",
       "         -1.37548784e-02, -2.09738980e-01,  2.59894830e-02]]])"
      ]
     },
     "execution_count": 15,
     "metadata": {},
     "output_type": "execute_result"
    }
   ],
   "source": [
    "final_data"
   ]
  },
  {
   "cell_type": "code",
   "execution_count": 16,
   "metadata": {},
   "outputs": [
    {
     "data": {
      "text/plain": [
       "(11674,)"
      ]
     },
     "execution_count": 16,
     "metadata": {},
     "output_type": "execute_result"
    }
   ],
   "source": [
    "label.shape"
   ]
  },
  {
   "cell_type": "code",
   "execution_count": 17,
   "metadata": {},
   "outputs": [
    {
     "data": {
      "text/plain": [
       "array([0, 0, 0, ..., 5, 6, 7], dtype=int64)"
      ]
     },
     "execution_count": 17,
     "metadata": {},
     "output_type": "execute_result"
    }
   ],
   "source": [
    "label"
   ]
  },
  {
   "cell_type": "code",
   "execution_count": 6,
   "metadata": {},
   "outputs": [],
   "source": [
    "mylabel=np.copy(label)"
   ]
  },
  {
   "cell_type": "code",
   "execution_count": 18,
   "metadata": {},
   "outputs": [
    {
     "data": {
      "text/plain": [
       "(11674, 8)"
      ]
     },
     "execution_count": 18,
     "metadata": {},
     "output_type": "execute_result"
    }
   ],
   "source": [
    "label = to_categorical(label, n_classes)\n",
    "label.shape"
   ]
  },
  {
   "cell_type": "code",
   "execution_count": 19,
   "metadata": {},
   "outputs": [
    {
     "data": {
      "text/plain": [
       "array([[1., 0., 0., ..., 0., 0., 0.],\n",
       "       [1., 0., 0., ..., 0., 0., 0.],\n",
       "       [1., 0., 0., ..., 0., 0., 0.],\n",
       "       ...,\n",
       "       [0., 0., 0., ..., 1., 0., 0.],\n",
       "       [0., 0., 0., ..., 0., 1., 0.],\n",
       "       [0., 0., 0., ..., 0., 0., 1.]], dtype=float32)"
      ]
     },
     "execution_count": 19,
     "metadata": {},
     "output_type": "execute_result"
    }
   ],
   "source": [
    "label"
   ]
  },
  {
   "cell_type": "code",
   "execution_count": 20,
   "metadata": {},
   "outputs": [],
   "source": [
    "final_data = zscore(final_data, axis=1)"
   ]
  },
  {
   "cell_type": "code",
   "execution_count": 21,
   "metadata": {},
   "outputs": [
    {
     "data": {
      "text/plain": [
       "array([[[ 3.70108067e-01,  1.84242152e+00, -2.09895659e+00,\n",
       "          2.44204856e-01, -1.14811268e+00, -1.31094327e+00],\n",
       "        [ 3.10724502e-01,  1.96257422e+00, -1.87010434e+00,\n",
       "          7.64817407e-02, -1.28869163e+00, -1.17169055e+00],\n",
       "        [-1.04960451e-01,  1.91451314e+00, -1.64125208e+00,\n",
       "         -7.20730188e-02, -1.38753620e+00, -1.06573740e+00],\n",
       "        ...,\n",
       "        [-6.09720751e-01,  6.41615423e-02,  1.51182342e+00,\n",
       "         -3.37363067e-02, -1.84222124e+00,  4.14579566e-01],\n",
       "        [-7.28487880e-01,  4.01310021e-02,  1.56267948e+00,\n",
       "          1.77115610e-01, -1.91910036e+00,  5.08423791e-01],\n",
       "        [-8.17563227e-01, -1.04052239e-01,  1.86781582e+00,\n",
       "          4.21512150e-01, -1.98938983e+00,  6.08322481e-01]],\n",
       "\n",
       "       [[-7.14277170e-01,  2.00488654e-01,  1.69094994e+00,\n",
       "          1.68401107e-01, -1.84585613e+00,  5.43452106e-01],\n",
       "        [-7.71764267e-01,  2.00488654e-01,  1.75142020e+00,\n",
       "          3.39260497e-01, -1.88641103e+00,  5.58390904e-01],\n",
       "        [-7.52601901e-01,  2.61675425e-01,  1.81189045e+00,\n",
       "          5.03146034e-01, -1.89992933e+00,  5.77597929e-01],\n",
       "        ...,\n",
       "        [-5.99302978e-01,  1.13868581e+00, -4.25307471e-02,\n",
       "          6.70518497e-01, -4.59264896e-01, -1.06353567e+00],\n",
       "        [-4.65166420e-01,  1.15908140e+00, -2.23739949e-02,\n",
       "          6.11240750e-01, -5.15269277e-01, -1.06780389e+00],\n",
       "        [-3.11867497e-01,  1.19987258e+00,  1.79395094e-02,\n",
       "          5.51963002e-01, -5.71273659e-01, -1.06566978e+00]],\n",
       "\n",
       "       [[-7.09338497e-01,  1.20556971e+00, -4.32731280e-01,\n",
       "          1.19182842e+00, -5.02968809e-01, -1.05195809e+00],\n",
       "        [-6.16432341e-01,  1.29306457e+00, -4.57472920e-01,\n",
       "          1.04250365e+00, -5.57524027e-01, -1.04143285e+00],\n",
       "        [-4.92557467e-01,  1.35868571e+00, -4.32731280e-01,\n",
       "          8.64277317e-01, -6.10058682e-01, -1.03090761e+00],\n",
       "        ...,\n",
       "        [ 2.19723058e-01, -2.86294097e+00, -7.54372598e-01,\n",
       "         -1.78985004e+00, -6.08038119e-01,  1.73459873e+00],\n",
       "        [-5.89954087e-02, -2.46921413e+00, -2.59539802e-01,\n",
       "         -1.26480488e+00, -6.30264319e-01,  1.88984599e+00],\n",
       "        [ 6.48794652e-02, -2.05361358e+00,  4.33226113e-01,\n",
       "         -7.25308942e-01, -7.00984047e-01,  2.01614885e+00]],\n",
       "\n",
       "       ...,\n",
       "\n",
       "       [[-1.10298783e+00,  7.26417285e-01,  1.16676820e+00,\n",
       "          1.34007778e+00,  8.45045805e-01, -1.26650189e+00],\n",
       "        [-1.10289603e+00,  7.43894267e-01,  1.20498145e+00,\n",
       "          1.40124859e+00,  8.40396204e-01, -1.28546945e+00],\n",
       "        [-1.09669433e+00,  7.61549243e-01,  1.24639022e+00,\n",
       "          1.44681914e+00,  8.36788045e-01, -1.30638551e+00],\n",
       "        ...,\n",
       "        [ 8.75173626e-01,  1.41015081e+00, -3.03611227e-03,\n",
       "          9.21985271e-01, -1.59325995e+00, -3.30661458e-01],\n",
       "        [ 8.92937436e-01,  1.55152626e+00,  1.37820161e-01,\n",
       "          9.60576818e-01, -1.60246947e+00, -4.20551995e-01],\n",
       "        [ 9.11631709e-01,  1.72286284e+00,  2.99178950e-01,\n",
       "          1.00189103e+00, -1.60666921e+00, -5.12187470e-01]],\n",
       "\n",
       "       [[ 1.63906084e+00,  2.25888181e-01, -4.71939921e-01,\n",
       "          1.42184409e+00, -1.32091379e+00, -2.50783335e+00],\n",
       "        [ 2.09878746e+00,  3.09955400e+00, -5.46258686e-01,\n",
       "          1.89079566e+00, -1.91593608e+00, -2.81120042e+00],\n",
       "        [ 2.16038385e+00,  5.13758102e+00, -4.71939921e-01,\n",
       "          2.72259279e+00, -2.37135284e+00, -3.11261264e+00],\n",
       "        ...,\n",
       "        [-5.80665048e-01, -4.52299471e-01, -1.55171931e-01,\n",
       "         -4.13336156e-01, -3.68576460e-01,  5.41409556e-01],\n",
       "        [-6.33120613e-01, -4.50280988e-01, -1.42793313e-01,\n",
       "         -4.05315770e-01, -3.68190010e-01,  5.34297650e-01],\n",
       "        [-6.67049618e-01, -3.82436626e-01, -1.17536924e-01,\n",
       "         -3.95454377e-01, -3.80682260e-01,  5.33802370e-01]],\n",
       "\n",
       "       [[-2.05526212e-01, -1.22297309e+00, -7.73962764e-01,\n",
       "          6.93602926e-01, -1.01956835e+00,  8.67564075e-01],\n",
       "        [ 3.02958959e-01,  4.06937056e-01,  8.92411602e-01,\n",
       "          1.28291242e+00, -1.23158159e+00,  1.23636413e+00],\n",
       "        [ 1.16895661e+00,  4.19264716e-01,  2.22108914e+00,\n",
       "          1.77517416e+00, -1.46956264e+00,  1.42987239e+00],\n",
       "        ...,\n",
       "        [-1.44875310e-02,  1.17910560e-01,  8.88279239e-02,\n",
       "          2.97153814e-04, -2.49470423e-01,  2.35834427e-02],\n",
       "        [-9.17152276e-03,  1.45558415e-01, -1.32165926e-01,\n",
       "          1.39733466e-03, -2.25460794e-01,  2.41016036e-02],\n",
       "        [ 1.19983672e-01,  2.83612607e-01, -1.82683564e-01,\n",
       "         -1.37548784e-02, -2.09738980e-01,  2.59894830e-02]]])"
      ]
     },
     "execution_count": 21,
     "metadata": {},
     "output_type": "execute_result"
    }
   ],
   "source": [
    "final_data"
   ]
  },
  {
   "cell_type": "code",
   "execution_count": 22,
   "metadata": {},
   "outputs": [
    {
     "data": {
      "text/plain": [
       "(11674, 200, 6)"
      ]
     },
     "execution_count": 22,
     "metadata": {},
     "output_type": "execute_result"
    }
   ],
   "source": [
    "final_data.shape"
   ]
  },
  {
   "cell_type": "code",
   "execution_count": 23,
   "metadata": {},
   "outputs": [
    {
     "data": {
      "text/plain": [
       "(11674, 8)"
      ]
     },
     "execution_count": 23,
     "metadata": {},
     "output_type": "execute_result"
    }
   ],
   "source": [
    "label.shape"
   ]
  },
  {
   "cell_type": "code",
   "execution_count": 24,
   "metadata": {},
   "outputs": [
    {
     "name": "stdout",
     "output_type": "stream",
     "text": [
      "(200, 6)\n"
     ]
    }
   ],
   "source": [
    "I_Shape = final_data.shape[1:]\n",
    "print(I_Shape)"
   ]
  },
  {
   "cell_type": "code",
   "execution_count": 26,
   "metadata": {},
   "outputs": [],
   "source": [
    "# Define selective kernel convolution block\n",
    "def selective_kernel_conv(inputs, kernel_sizes, filters):\n",
    "    # Perform convolution with different kernel sizes\n",
    "    conv_outputs = []\n",
    "    for size in kernel_sizes:\n",
    "        conv_output = Conv1D(filters=filters, kernel_size=size, padding='same', activation='relu')(inputs)\n",
    "        conv_outputs.append(conv_output)\n",
    "\n",
    "    # Use an Add layer to combine the convolution outputs\n",
    "    if len(conv_outputs) > 1:\n",
    "        combined_output = Add()(conv_outputs)\n",
    "    else:\n",
    "        combined_output = conv_outputs[0]\n",
    "\n",
    "    # Squeeze and Excitation mechanism\n",
    "    excitation = GlobalAveragePooling1D()(combined_output)\n",
    "    excitation = Dense(len(kernel_sizes), activation='relu')(excitation)\n",
    "    excitation = Dense(filters, activation='sigmoid')(excitation)\n",
    "    excitation = tf.expand_dims(excitation, axis=1)\n",
    "    \n",
    "    # Weighted output of the convolution outputs\n",
    "    weighted_output = Multiply()([combined_output, excitation])\n",
    "    \n",
    "    return weighted_output\n",
    "\n",
    "# Define attention mechanism\n",
    "def attention_block(inputs):\n",
    "    # Compute attention scores\n",
    "    attention_scores = Dense(inputs.shape[-1], activation='softmax')(inputs)\n",
    "    \n",
    "    # Apply attention scores to the inputs\n",
    "    attention_output = Multiply()([inputs, attention_scores])\n",
    "    \n",
    "    return attention_output\n",
    "\n",
    "# Define AMSKNet model\n",
    "def build_amsknet(input_shape, num_classes):\n",
    "    inputs = Input(shape=input_shape)\n",
    "    \n",
    "    # Selective Kernel Convolution Layers\n",
    "    x = selective_kernel_conv(inputs, kernel_sizes=[3, 5, 7], filters=64)\n",
    "    x = attention_block(x)\n",
    "    \n",
    "    x = selective_kernel_conv(x, kernel_sizes=[3, 5, 7], filters=128)\n",
    "    x = attention_block(x)\n",
    "    \n",
    "    # Global Average Pooling and Dense layers\n",
    "    x = GlobalAveragePooling1D()(x)\n",
    "    x = Dense(128, activation='relu')(x)\n",
    "    outputs = Dense(num_classes, activation='softmax')(x)\n",
    "    \n",
    "    model = Model(inputs=inputs, outputs=outputs)\n",
    "    \n",
    "    return model"
   ]
  },
  {
   "cell_type": "code",
   "execution_count": 27,
   "metadata": {},
   "outputs": [],
   "source": [
    "input_shape = I_Shape\n",
    "num_classes = n_classes"
   ]
  },
  {
   "cell_type": "code",
   "execution_count": 48,
   "metadata": {},
   "outputs": [
    {
     "name": "stdout",
     "output_type": "stream",
     "text": [
      "Model: \"model_2\"\n",
      "__________________________________________________________________________________________________\n",
      " Layer (type)                Output Shape                 Param #   Connected to                  \n",
      "==================================================================================================\n",
      " input_4 (InputLayer)        [(None, 200, 6)]             0         []                            \n",
      "                                                                                                  \n",
      " conv1d_15 (Conv1D)          (None, 200, 64)              1216      ['input_4[0][0]']             \n",
      "                                                                                                  \n",
      " conv1d_16 (Conv1D)          (None, 200, 64)              1984      ['input_4[0][0]']             \n",
      "                                                                                                  \n",
      " conv1d_17 (Conv1D)          (None, 200, 64)              2752      ['input_4[0][0]']             \n",
      "                                                                                                  \n",
      " add_4 (Add)                 (None, 200, 64)              0         ['conv1d_15[0][0]',           \n",
      "                                                                     'conv1d_16[0][0]',           \n",
      "                                                                     'conv1d_17[0][0]']           \n",
      "                                                                                                  \n",
      " global_average_pooling1d_7  (None, 64)                   0         ['add_4[0][0]']               \n",
      "  (GlobalAveragePooling1D)                                                                        \n",
      "                                                                                                  \n",
      " dense_16 (Dense)            (None, 3)                    195       ['global_average_pooling1d_7[0\n",
      "                                                                    ][0]']                        \n",
      "                                                                                                  \n",
      " dense_17 (Dense)            (None, 64)                   256       ['dense_16[0][0]']            \n",
      "                                                                                                  \n",
      " tf.expand_dims_4 (TFOpLamb  (None, 1, 64)                0         ['dense_17[0][0]']            \n",
      " da)                                                                                              \n",
      "                                                                                                  \n",
      " multiply_8 (Multiply)       (None, 200, 64)              0         ['add_4[0][0]',               \n",
      "                                                                     'tf.expand_dims_4[0][0]']    \n",
      "                                                                                                  \n",
      " dense_18 (Dense)            (None, 200, 64)              4160      ['multiply_8[0][0]']          \n",
      "                                                                                                  \n",
      " multiply_9 (Multiply)       (None, 200, 64)              0         ['multiply_8[0][0]',          \n",
      "                                                                     'dense_18[0][0]']            \n",
      "                                                                                                  \n",
      " conv1d_18 (Conv1D)          (None, 200, 128)             24704     ['multiply_9[0][0]']          \n",
      "                                                                                                  \n",
      " conv1d_19 (Conv1D)          (None, 200, 128)             41088     ['multiply_9[0][0]']          \n",
      "                                                                                                  \n",
      " conv1d_20 (Conv1D)          (None, 200, 128)             57472     ['multiply_9[0][0]']          \n",
      "                                                                                                  \n",
      " add_5 (Add)                 (None, 200, 128)             0         ['conv1d_18[0][0]',           \n",
      "                                                                     'conv1d_19[0][0]',           \n",
      "                                                                     'conv1d_20[0][0]']           \n",
      "                                                                                                  \n",
      " global_average_pooling1d_8  (None, 128)                  0         ['add_5[0][0]']               \n",
      "  (GlobalAveragePooling1D)                                                                        \n",
      "                                                                                                  \n",
      " dense_19 (Dense)            (None, 3)                    387       ['global_average_pooling1d_8[0\n",
      "                                                                    ][0]']                        \n",
      "                                                                                                  \n",
      " dense_20 (Dense)            (None, 128)                  512       ['dense_19[0][0]']            \n",
      "                                                                                                  \n",
      " tf.expand_dims_5 (TFOpLamb  (None, 1, 128)               0         ['dense_20[0][0]']            \n",
      " da)                                                                                              \n",
      "                                                                                                  \n",
      " multiply_10 (Multiply)      (None, 200, 128)             0         ['add_5[0][0]',               \n",
      "                                                                     'tf.expand_dims_5[0][0]']    \n",
      "                                                                                                  \n",
      " dense_21 (Dense)            (None, 200, 128)             16512     ['multiply_10[0][0]']         \n",
      "                                                                                                  \n",
      " multiply_11 (Multiply)      (None, 200, 128)             0         ['multiply_10[0][0]',         \n",
      "                                                                     'dense_21[0][0]']            \n",
      "                                                                                                  \n",
      " global_average_pooling1d_9  (None, 128)                  0         ['multiply_11[0][0]']         \n",
      "  (GlobalAveragePooling1D)                                                                        \n",
      "                                                                                                  \n",
      " dense_22 (Dense)            (None, 128)                  16512     ['global_average_pooling1d_9[0\n",
      "                                                                    ][0]']                        \n",
      "                                                                                                  \n",
      " dense_23 (Dense)            (None, 8)                    1032      ['dense_22[0][0]']            \n",
      "                                                                                                  \n",
      "==================================================================================================\n",
      "Total params: 168782 (659.30 KB)\n",
      "Trainable params: 168782 (659.30 KB)\n",
      "Non-trainable params: 0 (0.00 Byte)\n",
      "__________________________________________________________________________________________________\n"
     ]
    }
   ],
   "source": [
    "model = build_amsknet(input_shape, num_classes)\n",
    "model.compile(optimizer='adam', loss='categorical_crossentropy', metrics=['accuracy'])\n",
    "\n",
    "model.summary()"
   ]
  },
  {
   "cell_type": "code",
   "execution_count": 49,
   "metadata": {},
   "outputs": [
    {
     "name": "stdout",
     "output_type": "stream",
     "text": [
      "Epoch 1/50\n",
      "292/292 [==============================] - 17s 53ms/step - loss: 1.7557 - accuracy: 0.3262 - val_loss: 1.6455 - val_accuracy: 0.3837\n",
      "Epoch 2/50\n",
      "292/292 [==============================] - 25s 86ms/step - loss: 1.2459 - accuracy: 0.5405 - val_loss: 1.4024 - val_accuracy: 0.4642\n",
      "Epoch 3/50\n",
      "292/292 [==============================] - 26s 89ms/step - loss: 1.0855 - accuracy: 0.6030 - val_loss: 1.3087 - val_accuracy: 0.4981\n",
      "Epoch 4/50\n",
      "292/292 [==============================] - 15s 51ms/step - loss: 0.9914 - accuracy: 0.6433 - val_loss: 1.1966 - val_accuracy: 0.5302\n",
      "Epoch 5/50\n",
      "292/292 [==============================] - 15s 51ms/step - loss: 0.9145 - accuracy: 0.6736 - val_loss: 1.1768 - val_accuracy: 0.5529\n",
      "Epoch 6/50\n",
      "292/292 [==============================] - 15s 51ms/step - loss: 0.8400 - accuracy: 0.7018 - val_loss: 1.1527 - val_accuracy: 0.5636\n",
      "Epoch 7/50\n",
      "292/292 [==============================] - 15s 53ms/step - loss: 0.7907 - accuracy: 0.7229 - val_loss: 1.0964 - val_accuracy: 0.5944\n",
      "Epoch 8/50\n",
      "292/292 [==============================] - 15s 52ms/step - loss: 0.7357 - accuracy: 0.7403 - val_loss: 1.0828 - val_accuracy: 0.5824\n",
      "Epoch 9/50\n",
      "292/292 [==============================] - 15s 52ms/step - loss: 0.6934 - accuracy: 0.7595 - val_loss: 0.9141 - val_accuracy: 0.6749\n",
      "Epoch 10/50\n",
      "292/292 [==============================] - 15s 53ms/step - loss: 0.6602 - accuracy: 0.7735 - val_loss: 0.8669 - val_accuracy: 0.6677\n",
      "Epoch 11/50\n",
      "292/292 [==============================] - 15s 52ms/step - loss: 0.6193 - accuracy: 0.7861 - val_loss: 0.9257 - val_accuracy: 0.6578\n",
      "Epoch 12/50\n",
      "292/292 [==============================] - 15s 52ms/step - loss: 0.5937 - accuracy: 0.7944 - val_loss: 0.8636 - val_accuracy: 0.6805\n",
      "Epoch 13/50\n",
      "292/292 [==============================] - 15s 53ms/step - loss: 0.5623 - accuracy: 0.8069 - val_loss: 0.8089 - val_accuracy: 0.6972\n",
      "Epoch 14/50\n",
      "292/292 [==============================] - 16s 53ms/step - loss: 0.5389 - accuracy: 0.8151 - val_loss: 0.8683 - val_accuracy: 0.6874\n",
      "Epoch 15/50\n",
      "292/292 [==============================] - 16s 56ms/step - loss: 0.5113 - accuracy: 0.8256 - val_loss: 0.8088 - val_accuracy: 0.7212\n",
      "Epoch 16/50\n",
      "292/292 [==============================] - 17s 57ms/step - loss: 0.4922 - accuracy: 0.8307 - val_loss: 0.7185 - val_accuracy: 0.7448\n",
      "Epoch 17/50\n",
      "292/292 [==============================] - 16s 55ms/step - loss: 0.4758 - accuracy: 0.8369 - val_loss: 0.6778 - val_accuracy: 0.7606\n",
      "Epoch 18/50\n",
      "292/292 [==============================] - 16s 55ms/step - loss: 0.4618 - accuracy: 0.8427 - val_loss: 0.7739 - val_accuracy: 0.7332\n",
      "Epoch 19/50\n",
      "292/292 [==============================] - 16s 55ms/step - loss: 0.4394 - accuracy: 0.8520 - val_loss: 0.7770 - val_accuracy: 0.7328\n",
      "Epoch 20/50\n",
      "292/292 [==============================] - 16s 55ms/step - loss: 0.4327 - accuracy: 0.8549 - val_loss: 0.6505 - val_accuracy: 0.7752\n",
      "Epoch 21/50\n",
      "292/292 [==============================] - 16s 53ms/step - loss: 0.4048 - accuracy: 0.8627 - val_loss: 0.6428 - val_accuracy: 0.7790\n",
      "Epoch 22/50\n",
      "292/292 [==============================] - 16s 53ms/step - loss: 0.3940 - accuracy: 0.8698 - val_loss: 0.6532 - val_accuracy: 0.7846\n",
      "Epoch 23/50\n",
      "292/292 [==============================] - 15s 53ms/step - loss: 0.3881 - accuracy: 0.8725 - val_loss: 0.6094 - val_accuracy: 0.7914\n",
      "Epoch 24/50\n",
      "292/292 [==============================] - 15s 53ms/step - loss: 0.3872 - accuracy: 0.8702 - val_loss: 0.6368 - val_accuracy: 0.7829\n",
      "Epoch 25/50\n",
      "292/292 [==============================] - 15s 53ms/step - loss: 0.3551 - accuracy: 0.8819 - val_loss: 0.6424 - val_accuracy: 0.7914\n",
      "Epoch 26/50\n",
      "292/292 [==============================] - 15s 53ms/step - loss: 0.3481 - accuracy: 0.8874 - val_loss: 0.6330 - val_accuracy: 0.7837\n",
      "Epoch 27/50\n",
      "292/292 [==============================] - 15s 53ms/step - loss: 0.3435 - accuracy: 0.8905 - val_loss: 0.6877 - val_accuracy: 0.7747\n",
      "Epoch 28/50\n",
      "292/292 [==============================] - 15s 53ms/step - loss: 0.3376 - accuracy: 0.8891 - val_loss: 0.8215 - val_accuracy: 0.7281\n",
      "Epoch 29/50\n",
      "292/292 [==============================] - 16s 54ms/step - loss: 0.3172 - accuracy: 0.8950 - val_loss: 0.7225 - val_accuracy: 0.7713\n",
      "Epoch 30/50\n",
      "292/292 [==============================] - 16s 55ms/step - loss: 0.3184 - accuracy: 0.8970 - val_loss: 0.6658 - val_accuracy: 0.7687\n",
      "Epoch 31/50\n",
      "292/292 [==============================] - 19s 64ms/step - loss: 0.3040 - accuracy: 0.8989 - val_loss: 0.7152 - val_accuracy: 0.7542\n",
      "Epoch 32/50\n",
      "292/292 [==============================] - 15s 51ms/step - loss: 0.2907 - accuracy: 0.9036 - val_loss: 0.6835 - val_accuracy: 0.7730\n",
      "Epoch 33/50\n",
      "292/292 [==============================] - 16s 53ms/step - loss: 0.2917 - accuracy: 0.9023 - val_loss: 0.5952 - val_accuracy: 0.8051\n",
      "Epoch 34/50\n",
      "292/292 [==============================] - 15s 53ms/step - loss: 0.2797 - accuracy: 0.9090 - val_loss: 0.6386 - val_accuracy: 0.7846\n",
      "Epoch 35/50\n",
      "292/292 [==============================] - 15s 53ms/step - loss: 0.2685 - accuracy: 0.9117 - val_loss: 0.6425 - val_accuracy: 0.7893\n",
      "Epoch 36/50\n",
      "292/292 [==============================] - 16s 53ms/step - loss: 0.2643 - accuracy: 0.9113 - val_loss: 0.7099 - val_accuracy: 0.7717\n",
      "Epoch 37/50\n",
      "292/292 [==============================] - 16s 53ms/step - loss: 0.2655 - accuracy: 0.9120 - val_loss: 0.6377 - val_accuracy: 0.7936\n",
      "Epoch 38/50\n",
      "292/292 [==============================] - 15s 53ms/step - loss: 0.2575 - accuracy: 0.9155 - val_loss: 0.6684 - val_accuracy: 0.7974\n",
      "Epoch 39/50\n",
      "292/292 [==============================] - 16s 54ms/step - loss: 0.2511 - accuracy: 0.9185 - val_loss: 0.5861 - val_accuracy: 0.8090\n",
      "Epoch 40/50\n",
      "292/292 [==============================] - 16s 53ms/step - loss: 0.2445 - accuracy: 0.9207 - val_loss: 0.8076 - val_accuracy: 0.7640\n",
      "Epoch 41/50\n",
      "292/292 [==============================] - 16s 53ms/step - loss: 0.2383 - accuracy: 0.9230 - val_loss: 0.6371 - val_accuracy: 0.7944\n",
      "Epoch 42/50\n",
      "292/292 [==============================] - 16s 54ms/step - loss: 0.2251 - accuracy: 0.9269 - val_loss: 0.6156 - val_accuracy: 0.8000\n",
      "Epoch 43/50\n",
      "292/292 [==============================] - 31s 107ms/step - loss: 0.2306 - accuracy: 0.9229 - val_loss: 0.6833 - val_accuracy: 0.7824\n",
      "Epoch 44/50\n",
      "292/292 [==============================] - 34s 117ms/step - loss: 0.2148 - accuracy: 0.9304 - val_loss: 0.6389 - val_accuracy: 0.8094\n",
      "Epoch 45/50\n",
      "292/292 [==============================] - 34s 116ms/step - loss: 0.2123 - accuracy: 0.9284 - val_loss: 0.7272 - val_accuracy: 0.7756\n",
      "Epoch 46/50\n",
      "292/292 [==============================] - 34s 116ms/step - loss: 0.2168 - accuracy: 0.9282 - val_loss: 0.6150 - val_accuracy: 0.8043\n",
      "Epoch 47/50\n",
      "292/292 [==============================] - 33s 113ms/step - loss: 0.2014 - accuracy: 0.9334 - val_loss: 0.7004 - val_accuracy: 0.7897\n",
      "Epoch 48/50\n",
      "292/292 [==============================] - 33s 113ms/step - loss: 0.1969 - accuracy: 0.9341 - val_loss: 0.6723 - val_accuracy: 0.8004\n",
      "Epoch 49/50\n",
      "292/292 [==============================] - 34s 116ms/step - loss: 0.1990 - accuracy: 0.9326 - val_loss: 0.7021 - val_accuracy: 0.7944\n",
      "Epoch 50/50\n",
      "292/292 [==============================] - 34s 117ms/step - loss: 0.1835 - accuracy: 0.9407 - val_loss: 0.7068 - val_accuracy: 0.7919\n",
      "73/73 [==============================] - 3s 39ms/step - loss: 0.7068 - accuracy: 0.7919\n",
      "Validation Loss: 0.7068\n",
      "Validation Accuracy: 0.7919\n"
     ]
    }
   ],
   "source": [
    "split_index = int(0.8 * len(final_data))\n",
    "train_data, val_data = final_data[:split_index], final_data[split_index:]\n",
    "train_label, val_label = label[:split_index], label[split_index:]\n",
    "\n",
    "history = model.fit(\n",
    "    train_data,\n",
    "    train_label,\n",
    "    batch_size=32,\n",
    "    epochs=50,\n",
    "    validation_data=(val_data, val_label),\n",
    "    verbose=1\n",
    ")\n",
    "\n",
    "val_loss, val_accuracy = model.evaluate(val_data, val_label, verbose=1)\n",
    "\n",
    "print(f'Validation Loss: {val_loss:.4f}')\n",
    "print(f'Validation Accuracy: {val_accuracy:.4f}')"
   ]
  },
  {
   "cell_type": "code",
   "execution_count": 50,
   "metadata": {},
   "outputs": [
    {
     "data": {
      "image/png": "[encoded data removed]",
      "text/plain": [
       "<Figure size 1000x600 with 1 Axes>"
      ]
     },
     "metadata": {},
     "output_type": "display_data"
    }
   ],
   "source": [
    "def plot_accuracy(history):\n",
    "    plt.figure(figsize=(10, 6))\n",
    "    plt.plot(history.history['accuracy'], label='Training Accuracy')\n",
    "    plt.plot(history.history['val_accuracy'], label='Validation Accuracy')\n",
    "    plt.title('Model Accuracy')\n",
    "    plt.xlabel('Epoch')\n",
    "    plt.ylabel('Accuracy')\n",
    "    plt.legend(loc='lower right')\n",
    "    plt.grid(True)\n",
    "    plt.show()\n",
    "\n",
    "plot_accuracy(history)"
   ]
  },
  {
   "cell_type": "code",
   "execution_count": 51,
   "metadata": {},
   "outputs": [
    {
     "data": {
      "image/png": "[encoded data removed]",
      "text/plain": [
       "<Figure size 1000x600 with 1 Axes>"
      ]
     },
     "metadata": {},
     "output_type": "display_data"
    }
   ],
   "source": [
    "def plot_loss(history):\n",
    "    plt.figure(figsize=(10, 6))\n",
    "    plt.plot(history.history['loss'], label='Training Loss')\n",
    "    plt.plot(history.history['val_loss'], label='Validation Loss')\n",
    "    plt.title('Model Loss')\n",
    "    plt.xlabel('Epoch')\n",
    "    plt.ylabel('Loss')\n",
    "    plt.legend(loc='upper right')\n",
    "    plt.grid(True)\n",
    "    plt.show()\n",
    "\n",
    "plot_loss(history)"
   ]
  },
  {
   "cell_type": "code",
   "execution_count": 28,
   "metadata": {},
   "outputs": [],
   "source": [
    "def selective_kernel_conv_reg(inputs, kernel_sizes, filters, use_bn=True, dropout_rate=0.3):\n",
    "    conv_outputs = []\n",
    "    for size in kernel_sizes:\n",
    "        conv_output = Conv1D(filters=filters, kernel_size=size, padding='same', activation='relu', kernel_regularizer=l2(1e-4))(inputs)\n",
    "        if use_bn:\n",
    "            conv_output = BatchNormalization()(conv_output)\n",
    "        conv_outputs.append(conv_output)\n",
    "\n",
    "    if len(conv_outputs) > 1:\n",
    "        combined_output = Add()(conv_outputs)\n",
    "    else:\n",
    "        combined_output = conv_outputs[0]\n",
    "\n",
    "    excitation = GlobalAveragePooling1D()(combined_output)\n",
    "    excitation = Dense(len(kernel_sizes), activation='relu')(excitation)\n",
    "    excitation = Dense(filters, activation='sigmoid')(excitation)\n",
    "    excitation = tf.expand_dims(excitation, axis=1)\n",
    "\n",
    "    weighted_output = Multiply()([combined_output, excitation])\n",
    "    \n",
    "    if dropout_rate:\n",
    "        weighted_output = Dropout(dropout_rate)(weighted_output)\n",
    "    \n",
    "    return weighted_output\n",
    "\n",
    "# Define attention mechanism\n",
    "def attention_block(inputs):\n",
    "    # Compute attention scores\n",
    "    attention_scores = Dense(inputs.shape[-1], activation='softmax')(inputs)\n",
    "    \n",
    "    # Apply attention scores to the inputs\n",
    "    attention_output = Multiply()([inputs, attention_scores])\n",
    "    \n",
    "    return attention_output\n",
    "\n",
    "def build_amsknet_reg(input_shape, num_classes):\n",
    "    inputs = Input(shape=input_shape)\n",
    "    \n",
    "    x = selective_kernel_conv_reg(inputs, kernel_sizes=[3, 5, 7], filters=64, dropout_rate=0.3)\n",
    "    x = attention_block(x)\n",
    "    \n",
    "    x = selective_kernel_conv_reg(x, kernel_sizes=[3, 5, 7], filters=128, dropout_rate=0.3)\n",
    "    x = attention_block(x)\n",
    "\n",
    "    x = GlobalAveragePooling1D()(x)\n",
    "    x = Dense(128, activation='relu', kernel_regularizer=l2(1e-4))(x)\n",
    "    x = Dropout(0.5)(x)\n",
    "    outputs = Dense(num_classes, activation='softmax')(x)\n",
    "    \n",
    "    model = Model(inputs=inputs, outputs=outputs)\n",
    "    \n",
    "    return model\n",
    "\n",
    "model_reg = build_amsknet_reg(input_shape, num_classes)\n",
    "model_reg.compile(optimizer='adam', loss='categorical_crossentropy', metrics=['accuracy'])"
   ]
  },
  {
   "cell_type": "code",
   "execution_count": 29,
   "metadata": {},
   "outputs": [],
   "source": [
    "train_data, test_data, train_label, test_label = train_test_split(final_data, label, test_size=0.2, random_state=42)\n",
    "train_data, val_data, train_label, val_label = train_test_split(train_data, train_label, test_size=0.25, random_state=42)"
   ]
  },
  {
   "cell_type": "code",
   "execution_count": 30,
   "metadata": {},
   "outputs": [
    {
     "name": "stdout",
     "output_type": "stream",
     "text": [
      "Epoch 1/50\n",
      "219/219 [==============================] - 24s 85ms/step - loss: 1.6686 - accuracy: 0.3734 - val_loss: 1.9385 - val_accuracy: 0.2942\n",
      "Epoch 2/50\n",
      "219/219 [==============================] - 31s 140ms/step - loss: 1.0503 - accuracy: 0.6298 - val_loss: 1.1497 - val_accuracy: 0.6548\n",
      "Epoch 3/50\n",
      "219/219 [==============================] - 19s 86ms/step - loss: 0.8486 - accuracy: 0.7246 - val_loss: 0.7597 - val_accuracy: 0.7542\n",
      "Epoch 4/50\n",
      "219/219 [==============================] - 17s 79ms/step - loss: 0.7347 - accuracy: 0.7641 - val_loss: 0.6504 - val_accuracy: 0.8009\n",
      "Epoch 5/50\n",
      "219/219 [==============================] - 18s 82ms/step - loss: 0.6720 - accuracy: 0.7854 - val_loss: 0.6224 - val_accuracy: 0.8081\n",
      "Epoch 6/50\n",
      "219/219 [==============================] - 18s 83ms/step - loss: 0.6119 - accuracy: 0.8068 - val_loss: 0.5987 - val_accuracy: 0.8180\n",
      "Epoch 7/50\n",
      "219/219 [==============================] - 19s 85ms/step - loss: 0.5754 - accuracy: 0.8238 - val_loss: 0.6045 - val_accuracy: 0.8094\n",
      "Epoch 8/50\n",
      "219/219 [==============================] - 23s 105ms/step - loss: 0.5478 - accuracy: 0.8311 - val_loss: 0.6046 - val_accuracy: 0.8103\n",
      "Epoch 9/50\n",
      "219/219 [==============================] - 22s 99ms/step - loss: 0.5348 - accuracy: 0.8332 - val_loss: 0.5386 - val_accuracy: 0.8364\n",
      "Epoch 10/50\n",
      "219/219 [==============================] - 22s 99ms/step - loss: 0.5033 - accuracy: 0.8459 - val_loss: 0.5011 - val_accuracy: 0.8471\n",
      "Epoch 11/50\n",
      "219/219 [==============================] - 23s 107ms/step - loss: 0.4764 - accuracy: 0.8515 - val_loss: 0.5127 - val_accuracy: 0.8552\n",
      "Epoch 12/50\n",
      "219/219 [==============================] - 21s 97ms/step - loss: 0.4658 - accuracy: 0.8589 - val_loss: 0.5092 - val_accuracy: 0.8497\n",
      "Epoch 13/50\n",
      "219/219 [==============================] - 19s 86ms/step - loss: 0.4571 - accuracy: 0.8614 - val_loss: 0.4810 - val_accuracy: 0.8617\n",
      "Epoch 14/50\n",
      "219/219 [==============================] - 19s 86ms/step - loss: 0.4299 - accuracy: 0.8678 - val_loss: 0.5407 - val_accuracy: 0.8347\n",
      "Epoch 15/50\n",
      "219/219 [==============================] - 19s 88ms/step - loss: 0.4184 - accuracy: 0.8755 - val_loss: 0.5012 - val_accuracy: 0.8557\n",
      "Epoch 16/50\n",
      "219/219 [==============================] - 20s 91ms/step - loss: 0.4092 - accuracy: 0.8802 - val_loss: 0.4644 - val_accuracy: 0.8737\n",
      "Epoch 17/50\n",
      "219/219 [==============================] - 22s 102ms/step - loss: 0.3961 - accuracy: 0.8845 - val_loss: 0.4563 - val_accuracy: 0.8707\n",
      "Epoch 18/50\n",
      "219/219 [==============================] - 21s 95ms/step - loss: 0.3841 - accuracy: 0.8891 - val_loss: 0.4583 - val_accuracy: 0.8707\n",
      "Epoch 19/50\n",
      "219/219 [==============================] - 20s 93ms/step - loss: 0.3773 - accuracy: 0.8912 - val_loss: 0.4101 - val_accuracy: 0.8857\n",
      "Epoch 20/50\n",
      "219/219 [==============================] - 21s 95ms/step - loss: 0.3763 - accuracy: 0.8916 - val_loss: 0.4870 - val_accuracy: 0.8647\n",
      "Epoch 21/50\n",
      "219/219 [==============================] - 20s 90ms/step - loss: 0.3817 - accuracy: 0.8895 - val_loss: 0.4338 - val_accuracy: 0.8835\n",
      "Epoch 22/50\n",
      "219/219 [==============================] - 20s 92ms/step - loss: 0.3620 - accuracy: 0.8968 - val_loss: 0.4247 - val_accuracy: 0.8844\n",
      "Epoch 23/50\n",
      "219/219 [==============================] - 20s 93ms/step - loss: 0.3472 - accuracy: 0.8983 - val_loss: 0.4411 - val_accuracy: 0.8741\n",
      "Epoch 24/50\n",
      "219/219 [==============================] - 21s 94ms/step - loss: 0.3545 - accuracy: 0.8986 - val_loss: 0.4437 - val_accuracy: 0.8741\n",
      "Epoch 25/50\n",
      "219/219 [==============================] - 21s 94ms/step - loss: 0.3568 - accuracy: 0.8995 - val_loss: 0.4267 - val_accuracy: 0.8822\n",
      "Epoch 26/50\n",
      "219/219 [==============================] - 21s 95ms/step - loss: 0.3276 - accuracy: 0.9063 - val_loss: 0.4032 - val_accuracy: 0.8869\n",
      "Epoch 27/50\n",
      "219/219 [==============================] - 20s 92ms/step - loss: 0.3328 - accuracy: 0.9088 - val_loss: 0.3961 - val_accuracy: 0.8964\n",
      "Epoch 28/50\n",
      "219/219 [==============================] - 19s 88ms/step - loss: 0.3272 - accuracy: 0.9073 - val_loss: 0.3852 - val_accuracy: 0.8951\n",
      "Epoch 29/50\n",
      "219/219 [==============================] - 19s 87ms/step - loss: 0.3071 - accuracy: 0.9153 - val_loss: 0.4023 - val_accuracy: 0.8861\n",
      "Epoch 30/50\n",
      "219/219 [==============================] - 20s 91ms/step - loss: 0.3123 - accuracy: 0.9145 - val_loss: 0.4281 - val_accuracy: 0.8835\n",
      "Epoch 31/50\n",
      "219/219 [==============================] - 20s 89ms/step - loss: 0.3147 - accuracy: 0.9098 - val_loss: 0.4386 - val_accuracy: 0.8848\n",
      "Epoch 32/50\n",
      "219/219 [==============================] - 19s 89ms/step - loss: 0.3141 - accuracy: 0.9143 - val_loss: 0.4108 - val_accuracy: 0.8921\n",
      "Epoch 33/50\n",
      "219/219 [==============================] - 19s 87ms/step - loss: 0.2927 - accuracy: 0.9220 - val_loss: 0.4437 - val_accuracy: 0.8792\n",
      "Epoch 34/50\n",
      "219/219 [==============================] - 19s 88ms/step - loss: 0.2976 - accuracy: 0.9186 - val_loss: 0.4055 - val_accuracy: 0.8895\n",
      "Epoch 35/50\n",
      "219/219 [==============================] - 19s 87ms/step - loss: 0.2896 - accuracy: 0.9196 - val_loss: 0.4102 - val_accuracy: 0.8951\n",
      "Epoch 36/50\n",
      "219/219 [==============================] - 19s 86ms/step - loss: 0.2917 - accuracy: 0.9203 - val_loss: 0.3892 - val_accuracy: 0.8912\n",
      "Epoch 37/50\n",
      "219/219 [==============================] - 19s 87ms/step - loss: 0.2896 - accuracy: 0.9240 - val_loss: 0.3727 - val_accuracy: 0.8998\n",
      "Epoch 38/50\n",
      "219/219 [==============================] - 19s 86ms/step - loss: 0.2954 - accuracy: 0.9166 - val_loss: 0.4789 - val_accuracy: 0.8672\n",
      "Epoch 39/50\n",
      "219/219 [==============================] - 19s 88ms/step - loss: 0.2930 - accuracy: 0.9200 - val_loss: 0.4740 - val_accuracy: 0.8749\n",
      "Epoch 40/50\n",
      "219/219 [==============================] - 19s 87ms/step - loss: 0.2741 - accuracy: 0.9266 - val_loss: 0.4985 - val_accuracy: 0.8621\n",
      "Epoch 41/50\n",
      "219/219 [==============================] - 19s 89ms/step - loss: 0.2814 - accuracy: 0.9235 - val_loss: 0.3779 - val_accuracy: 0.8951\n",
      "Epoch 42/50\n",
      "219/219 [==============================] - 20s 92ms/step - loss: 0.2740 - accuracy: 0.9262 - val_loss: 0.4264 - val_accuracy: 0.8835\n",
      "Epoch 43/50\n",
      "219/219 [==============================] - 20s 91ms/step - loss: 0.2834 - accuracy: 0.9258 - val_loss: 0.3776 - val_accuracy: 0.8972\n",
      "Epoch 44/50\n",
      "219/219 [==============================] - 20s 91ms/step - loss: 0.2753 - accuracy: 0.9282 - val_loss: 0.4314 - val_accuracy: 0.8861\n",
      "Epoch 45/50\n",
      "219/219 [==============================] - 20s 90ms/step - loss: 0.2582 - accuracy: 0.9275 - val_loss: 0.4501 - val_accuracy: 0.8839\n",
      "Epoch 46/50\n",
      "219/219 [==============================] - 20s 91ms/step - loss: 0.2676 - accuracy: 0.9282 - val_loss: 0.4739 - val_accuracy: 0.8715\n",
      "Epoch 47/50\n",
      "219/219 [==============================] - 20s 90ms/step - loss: 0.2607 - accuracy: 0.9296 - val_loss: 0.4309 - val_accuracy: 0.8869\n",
      "Epoch 48/50\n",
      "219/219 [==============================] - 20s 90ms/step - loss: 0.2641 - accuracy: 0.9305 - val_loss: 0.3973 - val_accuracy: 0.8942\n",
      "Epoch 49/50\n",
      "219/219 [==============================] - 20s 91ms/step - loss: 0.2573 - accuracy: 0.9316 - val_loss: 0.3912 - val_accuracy: 0.8929\n",
      "Epoch 50/50\n",
      "219/219 [==============================] - 20s 93ms/step - loss: 0.2613 - accuracy: 0.9323 - val_loss: 0.5601 - val_accuracy: 0.8475\n"
     ]
    }
   ],
   "source": [
    "history = model_reg.fit(\n",
    "    train_data,\n",
    "    train_label,\n",
    "    batch_size=32,\n",
    "    epochs=50,\n",
    "    validation_data=(val_data, val_label),\n",
    "    verbose=1\n",
    ")"
   ]
  },
  {
   "cell_type": "code",
   "execution_count": 31,
   "metadata": {},
   "outputs": [
    {
     "name": "stdout",
     "output_type": "stream",
     "text": [
      "73/73 [==============================] - 1s 17ms/step - loss: 0.5601 - accuracy: 0.8475\n",
      "Validation Loss: 0.5601\n",
      "Validation Accuracy: 0.8475\n"
     ]
    }
   ],
   "source": [
    "val_loss, val_accuracy = model_reg.evaluate(val_data, val_label, verbose=1)\n",
    "\n",
    "print(f'Validation Loss: {val_loss:.4f}')\n",
    "print(f'Validation Accuracy: {val_accuracy:.4f}')"
   ]
  },
  {
   "cell_type": "code",
   "execution_count": 33,
   "metadata": {},
   "outputs": [
    {
     "name": "stdout",
     "output_type": "stream",
     "text": [
      "73/73 [==============================] - 1s 17ms/step - loss: 0.5596 - accuracy: 0.8433\n"
     ]
    },
    {
     "data": {
      "text/plain": [
       "0.843254804611206"
      ]
     },
     "execution_count": 33,
     "metadata": {},
     "output_type": "execute_result"
    }
   ],
   "source": [
    "test_loss, test_accuracy = model_reg.evaluate(test_data, test_label, verbose=1)\n",
    "test_accuracy"
   ]
  }
 ],
 "metadata": {
  "kernelspec": {
   "display_name": "Python 3",
   "language": "python",
   "name": "python3"
  },
  "language_info": {
   "codemirror_mode": {
    "name": "ipython",
    "version": 3
   },
   "file_extension": ".py",
   "mimetype": "text/x-python",
   "name": "python",
   "nbconvert_exporter": "python",
   "pygments_lexer": "ipython3",
   "version": "3.11.5"
  }
 },
 "nbformat": 4,
 "nbformat_minor": 2
}
